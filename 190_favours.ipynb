{
 "cells": [
  {
   "cell_type": "code",
   "execution_count": 1,
   "metadata": {},
   "outputs": [],
   "source": [
    "import requests\n",
    "from bs4 import BeautifulSoup"
   ]
  },
  {
   "cell_type": "code",
   "execution_count": null,
   "metadata": {},
   "outputs": [],
   "source": [
    "https://www.196flavors.com/category/continent/asia/south-asia/sri-lanka/page/2/\n",
    "\n",
    "45 recipies they have\n"
   ]
  },
  {
   "cell_type": "code",
   "execution_count": 10,
   "metadata": {},
   "outputs": [
    {
     "name": "stdout",
     "output_type": "stream",
     "text": [
      "['1½ cup white sesame seeds', '⅔ cup palm sugar (jaggery), grated', '1 cup desiccated coconut , toasted', '½ cup palm syrup (kithul treacle)', '1 pinch salt']\n"
     ]
    }
   ],
   "source": [
    "url = \"https://www.196flavors.com/sri-lanka-lunu-miris/\"\n",
    "url = \"https://www.196flavors.com/tejuino/\"\n",
    "url = \"https://www.196flavors.com/bangladesh-jilapi-jalebi-zalabia/\"\n",
    "url = \"https://www.196flavors.com/sri-lanka-nelum-ala-curry/\"\n",
    "url = \"https://www.196flavors.com/sri-lanka-baabath-curry-tripe-curry/\"\n",
    "url = \"https://www.196flavors.com/sri-lanka-thala-guli/\"\n",
    "\n",
    "\n",
    "\n",
    "response = requests.get(url)\n",
    "\n",
    "# Create a BeautifulSoup object to parse the HTML content\n",
    "soup = BeautifulSoup(response.content, \"html.parser\")\n",
    "\n",
    "recipe_ingredients = []\n",
    "# Find the recipe title\n",
    "\n",
    "\n",
    "# Find the ingredients list\n",
    "ingredients = soup.find_all(\"li\", class_=\"wprm-recipe-ingredient\")\n",
    "ingredient_list = [ingredient.text.strip() for ingredient in ingredients]\n",
    "print(ingredient_list)\n",
    "\n",
    "\n"
   ]
  },
  {
   "cell_type": "code",
   "execution_count": null,
   "metadata": {},
   "outputs": [],
   "source": []
  },
  {
   "cell_type": "code",
   "execution_count": null,
   "metadata": {},
   "outputs": [],
   "source": []
  },
  {
   "cell_type": "code",
   "execution_count": null,
   "metadata": {},
   "outputs": [],
   "source": []
  }
 ],
 "metadata": {
  "kernelspec": {
   "display_name": "Python 3",
   "language": "python",
   "name": "python3"
  },
  "language_info": {
   "codemirror_mode": {
    "name": "ipython",
    "version": 3
   },
   "file_extension": ".py",
   "mimetype": "text/x-python",
   "name": "python",
   "nbconvert_exporter": "python",
   "pygments_lexer": "ipython3",
   "version": "3.7.6"
  }
 },
 "nbformat": 4,
 "nbformat_minor": 4
}
