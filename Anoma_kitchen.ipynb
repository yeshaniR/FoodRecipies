{
 "cells": [
  {
   "cell_type": "code",
   "execution_count": 21,
   "metadata": {},
   "outputs": [
    {
     "name": "stdout",
     "output_type": "stream",
     "text": [
      "750g – 1 kilo chicken cut into pieces\n",
      "3 – 2 teaspoons roasted chillie powder\n",
      "2 teaspoons roasted curry powder\n",
      "2 teaspoons garlic ground\n",
      "2 teaspoons ginger ground\n",
      "5 red onions sliced\n",
      "2 green chillies sliced\n",
      "2” rampe\n",
      "1 sprig curry leaves\n",
      "3 cardamoms\n",
      "2 cloves\n",
      "1 teaspoon ground rice and coconut paste\n",
      "4 tamarind seeds dissolve in ¼ cup water or 1 tablespoon vinegar\n",
      "1 teaspoon Salt\n",
      "1 cup thin coconut milk\n",
      "1 cup thick coconut milk\n"
     ]
    }
   ],
   "source": [
    "import requests\n",
    "from bs4 import BeautifulSoup\n",
    "\n",
    "# Send an HTTP GET request to the webpage\n",
    "url = \"https://www.anomaskitchen.com/chicken-curry/\"\n",
    "#url = \"https://www.anomaskitchen.com/passion-fruit-leaves-mellum/\"\n",
    "response = requests.get(url)\n",
    "\n",
    "# Create a BeautifulSoup object to parse the HTML content\n",
    "soup = BeautifulSoup(response.content, \"html.parser\")\n",
    "\n",
    "#recipe title\n",
    "recipe_title = soup.find(\"h1\", class_=\"entry-title\")\n",
    "if recipe_title:\n",
    "    recipe_title = recipe_title.text.strip()\n",
    "\n",
    "# print(recipe_title)\n",
    "\n",
    "\n",
    "ingredients = soup.find_all(\"p\", class_=\"\")\n",
    "if ingredients:\n",
    "    recipe_ingredients = ingredients[3].text.strip()\n",
    "    print(recipe_ingredients)\n",
    "    \n",
    "    "
   ]
  },
  {
   "cell_type": "code",
   "execution_count": 28,
   "metadata": {},
   "outputs": [
    {
     "name": "stdout",
     "output_type": "stream",
     "text": [
      "Chinese Chillie Paste\n",
      "100g raw prawns\n",
      "100g onions sliced\n",
      "50g ginger sliced\n",
      "50g garlic sliced\n",
      "2 stalks of celery\n",
      "sufficient oil for frying\n",
      "\n",
      "100g chillie flakes\n",
      "2 tablespoons vinegar\n",
      "2 tablespoons sugar\n",
      "2 tablespoons soya sauce\n",
      "1 cup oil\n",
      "2 teaspoons salt\n"
     ]
    }
   ],
   "source": [
    "# Send an HTTP GET request to the webpage\n",
    "url = \"https://www.anomaskitchen.com/chinese-chillie-paste/\"\n",
    "#url = \"https://www.anomaskitchen.com/passion-fruit-leaves-mellum/\"\n",
    "response = requests.get(url)\n",
    "\n",
    "# Create a BeautifulSoup object to parse the HTML content\n",
    "soup = BeautifulSoup(response.content, \"html.parser\")\n",
    "\n",
    "#recipe title\n",
    "recipe_title = soup.find(\"h1\", class_=\"entry-title\")\n",
    "if recipe_title:\n",
    "    recipe_title = recipe_title.text.strip()\n",
    "\n",
    "print(recipe_title)\n",
    "\n",
    "ingredients = soup.find_all(\"p\", class_=\"\")\n",
    "if ingredients:\n",
    "    recipe_ingredients = ingredients[4].text.strip()\n",
    "    print(recipe_ingredients)   "
   ]
  },
  {
   "cell_type": "code",
   "execution_count": 94,
   "metadata": {},
   "outputs": [
    {
     "name": "stdout",
     "output_type": "stream",
     "text": [
      "Fish Cutlets\n",
      "200g Boiled flaked fish\n",
      "125g boiled potato smashed\n",
      "1 onion finely chopped\n",
      "2 green chillies finely chopped\n",
      "1 teaspoon ginger garlic paste\n",
      "Small piece of cinnamon\n",
      "1 cardamom\n",
      "1 clove\n",
      "1 sprig curry leaves\n",
      "1” Rampe (pandan leaf)\n",
      "1 tablespoon oil\n",
      "¼ teaspoon turmeric\n",
      "½ teaspoon pepper\n",
      "Salt to taste\n",
      "½ teaspoon lime juice\n",
      "½ cup of bread crumbs\n"
     ]
    }
   ],
   "source": [
    "# Send an HTTP GET request to the webpage\n",
    "url = \"https://www.anomaskitchen.com/fish-cutlets/\"\n",
    "#url = \"https://www.anomaskitchen.com/passion-fruit-leaves-mellum/\n",
    "# url = \"https://www.anomaskitchen.com/chinese-chillie-paste/\"\n",
    "response = requests.get(url)\n",
    "\n",
    "# Create a BeautifulSoup object to parse the HTML content\n",
    "soup = BeautifulSoup(response.content, \"html.parser\")\n",
    "\n",
    "#recipe title\n",
    "recipe_title = soup.find(\"h1\", class_=\"entry-title\")\n",
    "if recipe_title:\n",
    "    recipe_title = recipe_title.text.strip()\n",
    "\n",
    "print(recipe_title)\n",
    "\n",
    "ingredients = soup.find_all(\"p\", class_=\"\")\n",
    "if ingredients:\n",
    "    recipe_ingredients = ingredients[1].text.strip()\n",
    "    print(recipe_ingredients)"
   ]
  },
  {
   "cell_type": "code",
   "execution_count": 141,
   "metadata": {},
   "outputs": [
    {
     "name": "stdout",
     "output_type": "stream",
     "text": [
      "Chinese Chillie Paste\n",
      "['100g raw prawns\\n100g onions sliced\\n50g ginger sliced\\n50g garlic sliced\\n2 stalks of celery\\nsufficient oil for frying\\n\\n100g chillie flakes\\n2 tablespoons vinegar\\n2 tablespoons sugar\\n2 tablespoons soya sauce\\n1 cup oil\\n2 teaspoons salt', 'Heat oil deep fry first prawns, onions, ginger, garlic and celery until golden in colour.\\n\\nGrind all the fried ingredients.\\n\\nInto the pan put 100g chillie flakes and put 1 cup oil. ( always chillie should cover with the oil) Then add soya sauce, sugar, vinegar, salt and ground fried ingredients. Mix well.\\n\\nHeat this mixture In a very low heat stiring for a few seconds. Leave it to cool completely. Store in a bottle.']\n",
      "2\n",
      "<class 'str'>\n",
      "['100g raw prawns', '100g onions sliced', '50g ginger sliced', '50g garlic sliced', '2 stalks of celery', 'sufficient oil for frying']\n"
     ]
    }
   ],
   "source": [
    "import re\n",
    "import os\n",
    "import json\n",
    "\n",
    "# Send an HTTP GET request to the webpage\n",
    "url = \"https://www.anomaskitchen.com/chinese-chillie-paste/\"\n",
    "# url = \"https://www.anomaskitchen.com/passion-fruit-leaves-mellum/\"\n",
    "# url = \"https://www.anomaskitchen.com/yellow-rice/\"\n",
    "# url = \"https://www.anomaskitchen.com/tomato-sauce/\"\n",
    "# url = \"https://www.anomaskitchen.com/pol-mellum-coconut/\"\n",
    "# url = \"https://www.anomaskitchen.com/tomato-sauce/\"\n",
    "\n",
    "response = requests.get(url)\n",
    "\n",
    "# Create a BeautifulSoup object to parse the HTML content\n",
    "soup = BeautifulSoup(response.content, \"html.parser\")\n",
    "\n",
    "#recipe title\n",
    "recipe_title = soup.find(\"h1\", class_=\"entry-title\")\n",
    "if recipe_title:\n",
    "    recipe_title = recipe_title.text.strip()\n",
    "\n",
    "print(recipe_title)\n",
    "\n",
    "# WordList_Ingredients = [\"Ingredients\", \"ingredients\", \"INGREDIENTS\",\"Dough ingredients\", \n",
    "#                         \"Frying Ingredients\"]\n",
    "\n",
    "recipe =[]\n",
    "ingredients = soup.div.find_all(\"p\", class_ = \"\")\n",
    "if ingredients:\n",
    "    for ingredient in ingredients:\n",
    "        if(ingredient.text.strip() == '' ):\n",
    "            continue\n",
    "        if (ingredient.text.strip() == \"Ingredients\") :\n",
    "            continue  \n",
    "        if (ingredient.text.strip() == \"Frying Ingredients\") :\n",
    "            continue  \n",
    "        if ingredient.text.strip() == recipe_title :   \n",
    "            continue\n",
    "        if ingredient.text.strip() == recipe_title+\"\\nIngredients\" :   \n",
    "            continue\n",
    "        else:\n",
    "            #             print(len(ingredient.text.strip()))\n",
    "            recipe.append(ingredient.text.strip())\n",
    "            \n",
    "print(recipe)\n",
    "print(len(recipe))\n",
    "\n",
    "\n",
    "print(type(recipe[0]))\n",
    "\n",
    "final_ingredients = recipe[0].split(\"\\n\\n\")\n",
    "# print(recipe[0])\n",
    "\n",
    "recipe_ingredients = final_ingredients[0].split(\"\\n\")\n",
    "print(recipe_ingredients)\n",
    "\n",
    "\n",
    "\n",
    "# Create a dictionary with the recipe details\n",
    "recipe_data = {\n",
    "    \"title\": recipe_title,\n",
    "    \"ingredients\": recipe_ingredients\n",
    "}\n",
    "\n",
    "filename = f\"{recipe_title.replace(' ', '_')}.json\"\n",
    "filepath = os.path.join(\"recipes\", filename)\n",
    "\n",
    "# Save the recipe data as JSON\n",
    "with open( filepath, 'w',encoding='utf-8') as json_file:\n",
    "    json.dump(recipe_data, json_file, indent=4)\n"
   ]
  },
  {
   "cell_type": "code",
   "execution_count": null,
   "metadata": {},
   "outputs": [],
   "source": [
    "\n",
    "\n",
    "\n",
    "\n"
   ]
  },
  {
   "cell_type": "code",
   "execution_count": null,
   "metadata": {},
   "outputs": [],
   "source": [
    "\"https://www.anomaskitchen.com/yellow-rice/\",\n",
    "\"https://www.anomaskitchen.com/chicken-curry/\",\n",
    "\"https://www.anomaskitchen.com/chicken-biriyani/\",\n",
    "\"https://www.anomaskitchen.com/fried-sear-fish-slices/\",\n",
    "\"https://www.anomaskitchen.com/chinese-chillie-paste/\",\n",
    "\"https://www.anomaskitchen.com/potato-curry/\",\n",
    "\"https://www.anomaskitchen.com/mekaral-mellum/\",\n",
    "\"https://www.anomaskitchen.com/tomato-sauce/\",\n",
    "\"https://www.anomaskitchen.com/mint-sambol/\",\n",
    "\"https://www.anomaskitchen.com/onion-sambol/\",\n",
    "\"https://www.anomaskitchen.com/onion-and-egg-sambol/\",\n",
    "\"https://www.anomaskitchen.com/passionfruit-leaves-sambol/\",\n",
    "\"https://www.anomaskitchen.com/pol-mellum-coconut/\",\n",
    "\"https://www.anomaskitchen.com/chinese-egg-and-tomato/\",\n",
    "\"https://www.anomaskitchen.com/spaghetti-with-tuna-and-garlic/\",\n",
    "\"https://www.anomaskitchen.com/bread-pudding/\",\n",
    "\"https://www.anomaskitchen.com/wood-apple-cream/\",\n",
    "\"https://www.anomaskitchen.com/chinese-egg-and-tomato/\",\n",
    "\"https://www.anomaskitchen.com/mekaral-tempered-long-beans/\"  \n"
   ]
  },
  {
   "cell_type": "code",
   "execution_count": null,
   "metadata": {},
   "outputs": [],
   "source": []
  },
  {
   "cell_type": "code",
   "execution_count": null,
   "metadata": {},
   "outputs": [],
   "source": [
    "\n",
    "\n",
    "    "
   ]
  },
  {
   "cell_type": "code",
   "execution_count": null,
   "metadata": {},
   "outputs": [],
   "source": []
  }
 ],
 "metadata": {
  "kernelspec": {
   "display_name": "Python 3",
   "language": "python",
   "name": "python3"
  },
  "language_info": {
   "codemirror_mode": {
    "name": "ipython",
    "version": 3
   },
   "file_extension": ".py",
   "mimetype": "text/x-python",
   "name": "python",
   "nbconvert_exporter": "python",
   "pygments_lexer": "ipython3",
   "version": "3.7.6"
  }
 },
 "nbformat": 4,
 "nbformat_minor": 4
}
